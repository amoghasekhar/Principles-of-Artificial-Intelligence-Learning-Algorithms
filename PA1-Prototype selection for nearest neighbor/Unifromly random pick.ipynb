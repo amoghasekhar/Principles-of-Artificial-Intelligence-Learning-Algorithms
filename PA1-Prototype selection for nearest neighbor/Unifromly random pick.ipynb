{
 "cells": [
  {
   "cell_type": "code",
   "execution_count": 1,
   "metadata": {
    "collapsed": true
   },
   "outputs": [],
   "source": [
    "#Read in the data from the files.\n",
    "from mnist import MNIST\n",
    "import numpy as np\n",
    "\n",
    "mndata = MNIST('..\\CSE 253\\HW1\\mnist')\n",
    "\n",
    "trainData, trainLabel = mndata.load_training()\n",
    "\n",
    "testData, testLabel = mndata.load_testing()\n",
    "\n",
    "trainData = np.asarray(trainData) / 255.0\n",
    "trainLabel = np.asarray(trainLabel)\n",
    "testData = np.asarray(testData) / 255.0\n",
    "testLabel = np.asarray(testLabel)"
   ]
  },
  {
   "cell_type": "code",
   "execution_count": 2,
   "metadata": {
    "collapsed": true
   },
   "outputs": [],
   "source": [
    "# 1-NN algorithm\n",
    "def NN(dataSet, labelSet, testD):\n",
    "    testL = np.zeros((len(testD), 1))\n",
    "    for i in range(len(testD)):\n",
    "        dist = np.sum(np.power(dataSet - testD[i], 2),axis=1)\n",
    "        testL[i] = labelSet[np.argmin(dist)]\n",
    "        if i % (len(testD) / 10) == 0:\n",
    "            print (i)\n",
    "    return testL"
   ]
  },
  {
   "cell_type": "markdown",
   "metadata": {},
   "source": [
    "# Random Sample"
   ]
  },
  {
   "cell_type": "code",
   "execution_count": 3,
   "metadata": {
    "collapsed": true
   },
   "outputs": [],
   "source": [
    "import random\n",
    "def randomPick(data, label, M):\n",
    "    rand = random.sample(range(0,len(data)), M)\n",
    "    trainSet = data[rand]\n",
    "    labelSet = label[rand]\n",
    "    return trainSet, labelSet"
   ]
  },
  {
   "cell_type": "markdown",
   "metadata": {},
   "source": [
    "1.Uniform randomly pick 1000 points as training set."
   ]
  },
  {
   "cell_type": "code",
   "execution_count": 4,
   "metadata": {},
   "outputs": [
    {
     "name": "stdout",
     "output_type": "stream",
     "text": [
      "[ 0.8907  0.8856  0.8874  0.8834  0.8735]\n"
     ]
    }
   ],
   "source": [
    "from sklearn.neighbors import KNeighborsClassifier\n",
    "neigh = KNeighborsClassifier(n_neighbors=1)\n",
    "acc1000 = np.zeros(5)\n",
    "for i in range(5):\n",
    "    xTrainRan, yTrainRan = randomPick(trainData, trainLabel, 1000)\n",
    "    neigh.fit(xTrainRan, yTrainRan)\n",
    "    prediction = neigh.predict(testData)\n",
    "    acc1000[i] = sum([a == b for (a, b) in zip (prediction,testLabel)]) / len(testLabel)\n",
    "print (acc1000)"
   ]
  },
  {
   "cell_type": "code",
   "execution_count": 7,
   "metadata": {},
   "outputs": [
    {
     "data": {
      "text/plain": [
       "0.88412000000000002"
      ]
     },
     "execution_count": 7,
     "metadata": {},
     "output_type": "execute_result"
    }
   ],
   "source": [
    "np.mean(acc1000)"
   ]
  },
  {
   "cell_type": "markdown",
   "metadata": {},
   "source": [
    "2.Uniform randomly pick 5000 points as training set."
   ]
  },
  {
   "cell_type": "code",
   "execution_count": 9,
   "metadata": {},
   "outputs": [
    {
     "name": "stdout",
     "output_type": "stream",
     "text": [
      "[ 0.9328  0.9337  0.9368  0.9366  0.935 ]\n"
     ]
    }
   ],
   "source": [
    "acc5000 = np.zeros(5)\n",
    "for i in range(5):\n",
    "    xTrainRan, yTrainRan = randomPick(trainData, trainLabel, 5000)\n",
    "    neigh.fit(xTrainRan, yTrainRan)\n",
    "    prediction = neigh.predict(testData)\n",
    "    acc5000[i] = sum([a == b for (a, b) in zip (prediction,testLabel)]) / len(testLabel)\n",
    "print (acc5000)"
   ]
  },
  {
   "cell_type": "code",
   "execution_count": 10,
   "metadata": {},
   "outputs": [
    {
     "data": {
      "text/plain": [
       "0.93497999999999981"
      ]
     },
     "execution_count": 10,
     "metadata": {},
     "output_type": "execute_result"
    }
   ],
   "source": [
    "np.mean(acc5000)"
   ]
  },
  {
   "cell_type": "markdown",
   "metadata": {},
   "source": [
    "3.Uniform randomly pick 6000 points as training set."
   ]
  },
  {
   "cell_type": "code",
   "execution_count": 12,
   "metadata": {},
   "outputs": [
    {
     "name": "stdout",
     "output_type": "stream",
     "text": [
      "[ 0.9397  0.9415  0.9371  0.9374  0.9386]\n"
     ]
    }
   ],
   "source": [
    "acc6000 = np.zeros(5)\n",
    "for i in range(5):\n",
    "    xTrainRan, yTrainRan = randomPick(trainData, trainLabel, 6000)\n",
    "    neigh.fit(xTrainRan, yTrainRan)\n",
    "    prediction = neigh.predict(testData)\n",
    "    acc6000[i] = sum([a == b for (a, b) in zip (prediction,testLabel)]) / len(testLabel)\n",
    "print (acc6000)"
   ]
  },
  {
   "cell_type": "code",
   "execution_count": 13,
   "metadata": {},
   "outputs": [
    {
     "data": {
      "text/plain": [
       "0.93886000000000003"
      ]
     },
     "execution_count": 13,
     "metadata": {},
     "output_type": "execute_result"
    }
   ],
   "source": [
    "np.mean(acc6000)"
   ]
  }
 ],
 "metadata": {
  "kernelspec": {
   "display_name": "Python 3",
   "language": "python",
   "name": "python3"
  },
  "language_info": {
   "codemirror_mode": {
    "name": "ipython",
    "version": 3
   },
   "file_extension": ".py",
   "mimetype": "text/x-python",
   "name": "python",
   "nbconvert_exporter": "python",
   "pygments_lexer": "ipython3",
   "version": "3.6.3"
  }
 },
 "nbformat": 4,
 "nbformat_minor": 2
}
