{
 "cells": [
  {
   "cell_type": "code",
   "execution_count": 1,
   "metadata": {
    "collapsed": true
   },
   "outputs": [],
   "source": [
    "#Read in the data from the files.\n",
    "from mnist import MNIST\n",
    "import numpy as np\n",
    "\n",
    "mndata = MNIST('..\\CSE 253\\HW1\\mnist')\n",
    "\n",
    "trainData, trainLabel = mndata.load_training()\n",
    "\n",
    "testData, testLabel = mndata.load_testing()\n",
    "\n",
    "trainData = np.asarray(trainData) / 255.0\n",
    "trainLabel = np.asarray(trainLabel)\n",
    "testData = np.asarray(testData) / 255.0\n",
    "testLabel = np.asarray(testLabel)"
   ]
  },
  {
   "cell_type": "code",
   "execution_count": 2,
   "metadata": {
    "collapsed": true
   },
   "outputs": [],
   "source": [
    "# 1-NN algorithm\n",
    "def NN(dataSet, labelSet, testD):\n",
    "    testL = np.zeros((len(testD), 1))\n",
    "    for i in range(len(testD)):\n",
    "        dist = np.sum(np.power(dataSet - testD[i], 2),axis=1)\n",
    "        testL[i] = labelSet[np.argmin(dist)]\n",
    "        if i % (len(testD) / 10) == 0:\n",
    "            print (i)\n",
    "    return testL"
   ]
  },
  {
   "cell_type": "markdown",
   "metadata": {},
   "source": [
    "# Condensed Nearest Neighbors"
   ]
  },
  {
   "cell_type": "code",
   "execution_count": 20,
   "metadata": {
    "collapsed": true
   },
   "outputs": [],
   "source": [
    "from sklearn.neighbors import KNeighborsClassifier\n",
    "neigh = KNeighborsClassifier(n_neighbors=1)\n",
    "\n",
    "import random\n",
    "def myPrototype(data, label, M):\n",
    "    trainD = []\n",
    "    trainL = []\n",
    "    num = 0\n",
    "    ptr = 0\n",
    "    rand = random.sample(range(0,len(data)), len(data))\n",
    "    trainD.append(data[rand[0]])\n",
    "    trainL.append(label[rand[0]])\n",
    "    ptr +=1\n",
    "    num += 1\n",
    "    while num < M:\n",
    "        if rand[ptr] == -1:\n",
    "            ptr += 1\n",
    "            continue\n",
    "        neigh.fit(trainD,trainL)\n",
    "        pred = neigh.predict(data[rand[ptr]].reshape(1, -1))\n",
    "        if pred != label[rand[ptr]]:\n",
    "            trainD.append(data[rand[ptr]])\n",
    "            trainL.append(label[rand[ptr]])\n",
    "            num += 1\n",
    "            rand[ptr] = -1\n",
    "        if ptr % 2000 == 0:\n",
    "            print (ptr)\n",
    "            print (num)\n",
    "        ptr += 1\n",
    "        if ptr == len(rand):\n",
    "            ptr = 0\n",
    "    trainD = np.asarray(trainD)\n",
    "    trianL = np.asarray(trainL)\n",
    "    print(ptr)\n",
    "    print(num)\n",
    "    return trainD, trainL"
   ]
  },
  {
   "cell_type": "markdown",
   "metadata": {},
   "source": [
    "1.Pick 1,000 prototype"
   ]
  },
  {
   "cell_type": "code",
   "execution_count": 43,
   "metadata": {
    "scrolled": true
   },
   "outputs": [
    {
     "name": "stdout",
     "output_type": "stream",
     "text": [
      "2000\n",
      "433\n",
      "4000\n",
      "716\n",
      "6000\n",
      "946\n",
      "6462\n",
      "1000\n",
      "2000\n",
      "397\n",
      "4000\n",
      "681\n",
      "6000\n",
      "920\n",
      "6688\n",
      "1000\n",
      "2000\n",
      "436\n",
      "4000\n",
      "731\n",
      "6000\n",
      "954\n",
      "6380\n",
      "1000\n",
      "2000\n",
      "453\n",
      "4000\n",
      "741\n",
      "6000\n",
      "990\n",
      "6100\n",
      "1000\n",
      "2000\n",
      "399\n",
      "4000\n",
      "692\n",
      "6000\n",
      "927\n",
      "6784\n",
      "1000\n",
      "[ 0.897   0.8899  0.8852  0.8859  0.8931]\n"
     ]
    }
   ],
   "source": [
    "accCNN1000 = np.zeros(5)\n",
    "for i in range(5):\n",
    "    xTrain, yTrain = myPrototype(trainData, trainLabel, 1000)\n",
    "    neigh.fit(xTrain, yTrain)\n",
    "    prediction = neigh.predict(testData)\n",
    "    accCNN1000[i] = sum([a == b for (a, b) in zip (prediction,testLabel)]) / len(testLabel)\n",
    "print (accCNN1000)"
   ]
  },
  {
   "cell_type": "code",
   "execution_count": 10,
   "metadata": {},
   "outputs": [
    {
     "name": "stdout",
     "output_type": "stream",
     "text": [
      "0\n",
      "1000\n",
      "2000\n",
      "3000\n",
      "4000\n",
      "5000\n",
      "6000\n",
      "7000\n",
      "8000\n",
      "9000\n"
     ]
    },
    {
     "data": {
      "text/plain": [
       "array([ 0.8917])"
      ]
     },
     "execution_count": 10,
     "metadata": {},
     "output_type": "execute_result"
    }
   ],
   "source": [
    "prediction = NN(xTrain, yTrain, testData)\n",
    "acc = sum([a == b for (a, b) in zip (prediction,testLabel)]) / len(testLabel)\n",
    "acc"
   ]
  },
  {
   "cell_type": "markdown",
   "metadata": {},
   "source": [
    "2.Pick 5,000 prototype"
   ]
  },
  {
   "cell_type": "code",
   "execution_count": 21,
   "metadata": {
    "scrolled": true
   },
   "outputs": [
    {
     "name": "stdout",
     "output_type": "stream",
     "text": [
      "2000\n",
      "467\n",
      "4000\n",
      "729\n",
      "6000\n",
      "953\n",
      "8000\n",
      "1169\n",
      "10000\n",
      "1377\n",
      "12000\n",
      "1563\n",
      "14000\n",
      "1757\n",
      "16000\n",
      "1949\n",
      "18000\n",
      "2123\n",
      "20000\n",
      "2269\n",
      "22000\n",
      "2442\n",
      "24000\n",
      "2607\n",
      "26000\n",
      "2752\n",
      "28000\n",
      "2889\n",
      "30000\n",
      "3044\n",
      "32000\n",
      "3178\n",
      "34000\n",
      "3304\n",
      "36000\n",
      "3445\n",
      "38000\n",
      "3578\n",
      "40000\n",
      "3719\n",
      "42000\n",
      "3848\n",
      "44000\n",
      "3962\n",
      "46000\n",
      "4079\n",
      "48000\n",
      "4200\n",
      "50000\n",
      "4355\n",
      "52000\n",
      "4493\n",
      "54000\n",
      "4624\n",
      "56000\n",
      "4730\n",
      "58000\n",
      "4853\n",
      "0\n",
      "4960\n",
      "1579\n",
      "5000\n"
     ]
    },
    {
     "data": {
      "text/plain": [
       "(5000, 784)"
      ]
     },
     "execution_count": 21,
     "metadata": {},
     "output_type": "execute_result"
    }
   ],
   "source": [
    "xTrain, yTrain = myPrototype(trainData, trainLabel, 5000)\n",
    "xTrain.shape"
   ]
  },
  {
   "cell_type": "code",
   "execution_count": 23,
   "metadata": {},
   "outputs": [
    {
     "data": {
      "text/plain": [
       "0.93799999999999994"
      ]
     },
     "execution_count": 23,
     "metadata": {},
     "output_type": "execute_result"
    }
   ],
   "source": [
    "neigh.fit(xTrain,yTrain)\n",
    "prediction = neigh.predict(testData)\n",
    "acc = sum([a == b for (a, b) in zip (prediction,testLabel)]) / len(testLabel)\n",
    "acc"
   ]
  },
  {
   "cell_type": "markdown",
   "metadata": {},
   "source": [
    "3.Pick 6,000 prototype"
   ]
  },
  {
   "cell_type": "code",
   "execution_count": 25,
   "metadata": {
    "scrolled": true
   },
   "outputs": [
    {
     "name": "stdout",
     "output_type": "stream",
     "text": [
      "2000\n",
      "431\n",
      "4000\n",
      "691\n",
      "6000\n",
      "935\n",
      "8000\n",
      "1147\n",
      "10000\n",
      "1349\n",
      "12000\n",
      "1527\n",
      "14000\n",
      "1722\n",
      "16000\n",
      "1900\n",
      "18000\n",
      "2072\n",
      "20000\n",
      "2242\n",
      "22000\n",
      "2401\n",
      "24000\n",
      "2578\n",
      "26000\n",
      "2744\n",
      "28000\n",
      "2903\n",
      "30000\n",
      "3052\n",
      "32000\n",
      "3204\n",
      "34000\n",
      "3346\n",
      "36000\n",
      "3482\n",
      "38000\n",
      "3605\n",
      "40000\n",
      "3737\n",
      "42000\n",
      "3864\n",
      "44000\n",
      "3989\n",
      "46000\n",
      "4115\n",
      "48000\n",
      "4263\n",
      "50000\n",
      "4399\n",
      "52000\n",
      "4538\n",
      "54000\n",
      "4667\n",
      "56000\n",
      "4780\n",
      "58000\n",
      "4906\n",
      "0\n",
      "5036\n",
      "2000\n",
      "5099\n",
      "4000\n",
      "5174\n",
      "10000\n",
      "5356\n",
      "12000\n",
      "5427\n",
      "14000\n",
      "5469\n",
      "16000\n",
      "5513\n",
      "18000\n",
      "5557\n",
      "22000\n",
      "5659\n",
      "24000\n",
      "5702\n",
      "26000\n",
      "5749\n",
      "28000\n",
      "5787\n",
      "32000\n",
      "5858\n",
      "34000\n",
      "5892\n",
      "36000\n",
      "5923\n",
      "38000\n",
      "5955\n",
      "40000\n",
      "5975\n",
      "41810\n",
      "6000\n"
     ]
    },
    {
     "data": {
      "text/plain": [
       "(6000, 784)"
      ]
     },
     "execution_count": 25,
     "metadata": {},
     "output_type": "execute_result"
    }
   ],
   "source": [
    "xTrain, yTrain = myPrototype(trainData, trainLabel, 6000)\n",
    "xTrain.shape"
   ]
  },
  {
   "cell_type": "code",
   "execution_count": 26,
   "metadata": {},
   "outputs": [
    {
     "data": {
      "text/plain": [
       "0.94069999999999998"
      ]
     },
     "execution_count": 26,
     "metadata": {},
     "output_type": "execute_result"
    }
   ],
   "source": [
    "neigh.fit(xTrain,yTrain)\n",
    "prediction = neigh.predict(testData)\n",
    "acc = sum([a == b for (a, b) in zip (prediction,testLabel)]) / len(testLabel)\n",
    "acc"
   ]
  },
  {
   "cell_type": "code",
   "execution_count": null,
   "metadata": {
    "collapsed": true
   },
   "outputs": [],
   "source": []
  }
 ],
 "metadata": {
  "kernelspec": {
   "display_name": "Python 3",
   "language": "python",
   "name": "python3"
  },
  "language_info": {
   "codemirror_mode": {
    "name": "ipython",
    "version": 3
   },
   "file_extension": ".py",
   "mimetype": "text/x-python",
   "name": "python",
   "nbconvert_exporter": "python",
   "pygments_lexer": "ipython3",
   "version": "3.6.3"
  }
 },
 "nbformat": 4,
 "nbformat_minor": 2
}
